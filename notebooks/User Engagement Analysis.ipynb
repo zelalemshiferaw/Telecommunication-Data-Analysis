{
 "cells": [
  {
   "cell_type": "markdown",
   "metadata": {},
   "source": [
    "# Import Modules\n"
   ]
  },
  {
   "cell_type": "code",
   "execution_count": 7,
   "metadata": {},
   "outputs": [],
   "source": [
    "import pandas as pd\n",
    "import numpy as np\n",
    "import matplotlib.pyplot as plt\n",
    "import seaborn as sns\n",
    "from sklearn.preprocessing import StandardScaler, normalize\n",
    "from sklearn import metrics\n",
    "from sklearn.cluster import KMeans\n",
    "from scipy.spatial.distance import cdist\n",
    "import matplotlib.pyplot as plt\n",
    "import seaborn as sns\n",
    "import sys\n",
    "import os\n",
    "import warnings\n",
    "import pickle\n",
    "\n",
    "sys.path.append(os.path.abspath(os.path.join('../scripts')))\n",
    "\n",
    "from clean_telecom_dataframe import Telecom\n",
    "from plot_telecom_dataframe import TelecomPlotter\n",
    "\n",
    "plot = TelecomPlotter()\n",
    "cleaner = Telecom()"
   ]
  },
  {
   "cell_type": "markdown",
   "metadata": {},
   "source": [
    "## Read CSV Data"
   ]
  },
  {
   "cell_type": "code",
   "execution_count": 8,
   "metadata": {},
   "outputs": [],
   "source": [
    "telecom_cleaned_df = pd.read_csv(\"../data/telecom_cleaned_data.csv\")"
   ]
  },
  {
   "cell_type": "code",
   "execution_count": 9,
   "metadata": {},
   "outputs": [
    {
     "data": {
      "text/html": [
       "<div>\n",
       "<style scoped>\n",
       "    .dataframe tbody tr th:only-of-type {\n",
       "        vertical-align: middle;\n",
       "    }\n",
       "\n",
       "    .dataframe tbody tr th {\n",
       "        vertical-align: top;\n",
       "    }\n",
       "\n",
       "    .dataframe thead th {\n",
       "        text-align: right;\n",
       "    }\n",
       "</style>\n",
       "<table border=\"1\" class=\"dataframe\">\n",
       "  <thead>\n",
       "    <tr style=\"text-align: right;\">\n",
       "      <th></th>\n",
       "      <th>MSISDN/Number</th>\n",
       "      <th>Bearer Id</th>\n",
       "      <th>Dur (ms)</th>\n",
       "      <th>Total Data Volume (Bytes)</th>\n",
       "      <th>Social Media Data Volume (Bytes)</th>\n",
       "      <th>Google Data Volume (Bytes)</th>\n",
       "      <th>Email Data Volume (Bytes)</th>\n",
       "      <th>Youtube Data Volume (Bytes)</th>\n",
       "      <th>Netflix Data Volume (Bytes)</th>\n",
       "      <th>Gaming Data Volume (Bytes)</th>\n",
       "      <th>Other Data Volume (Bytes)</th>\n",
       "    </tr>\n",
       "  </thead>\n",
       "  <tbody>\n",
       "    <tr>\n",
       "      <th>0</th>\n",
       "      <td>33664962239</td>\n",
       "      <td>-9223372036854775808</td>\n",
       "      <td>1.823653e+09</td>\n",
       "      <td>345629377.0</td>\n",
       "      <td>1570185.0</td>\n",
       "      <td>2905912.0</td>\n",
       "      <td>3701304.0</td>\n",
       "      <td>18355943.0</td>\n",
       "      <td>17855187.0</td>\n",
       "      <td>292426453.0</td>\n",
       "      <td>180558843.0</td>\n",
       "    </tr>\n",
       "    <tr>\n",
       "      <th>1</th>\n",
       "      <td>33681854413</td>\n",
       "      <td>-9223372036854775808</td>\n",
       "      <td>1.365104e+09</td>\n",
       "      <td>707185356.0</td>\n",
       "      <td>1933278.0</td>\n",
       "      <td>4414096.0</td>\n",
       "      <td>937385.0</td>\n",
       "      <td>39359124.0</td>\n",
       "      <td>35565545.0</td>\n",
       "      <td>609920783.0</td>\n",
       "      <td>541959383.0</td>\n",
       "    </tr>\n",
       "    <tr>\n",
       "      <th>2</th>\n",
       "      <td>33760627129</td>\n",
       "      <td>-9223372036854775808</td>\n",
       "      <td>1.361763e+09</td>\n",
       "      <td>307690973.0</td>\n",
       "      <td>1726277.0</td>\n",
       "      <td>10229119.0</td>\n",
       "      <td>3363124.0</td>\n",
       "      <td>34425237.0</td>\n",
       "      <td>23751202.0</td>\n",
       "      <td>229980251.0</td>\n",
       "      <td>414908351.0</td>\n",
       "    </tr>\n",
       "    <tr>\n",
       "      <th>3</th>\n",
       "      <td>33699795932</td>\n",
       "      <td>-9223372036854775808</td>\n",
       "      <td>1.089009e+09</td>\n",
       "      <td>607681403.0</td>\n",
       "      <td>912788.0</td>\n",
       "      <td>7748843.0</td>\n",
       "      <td>2110349.0</td>\n",
       "      <td>34222253.0</td>\n",
       "      <td>17539799.0</td>\n",
       "      <td>531237049.0</td>\n",
       "      <td>564619822.0</td>\n",
       "    </tr>\n",
       "    <tr>\n",
       "      <th>4</th>\n",
       "      <td>33665368271</td>\n",
       "      <td>-9223372036854775808</td>\n",
       "      <td>1.035262e+09</td>\n",
       "      <td>118487293.0</td>\n",
       "      <td>1624991.0</td>\n",
       "      <td>4906872.0</td>\n",
       "      <td>2090979.0</td>\n",
       "      <td>9120760.0</td>\n",
       "      <td>31212766.0</td>\n",
       "      <td>58881157.0</td>\n",
       "      <td>814303325.0</td>\n",
       "    </tr>\n",
       "    <tr>\n",
       "      <th>...</th>\n",
       "      <td>...</td>\n",
       "      <td>...</td>\n",
       "      <td>...</td>\n",
       "      <td>...</td>\n",
       "      <td>...</td>\n",
       "      <td>...</td>\n",
       "      <td>...</td>\n",
       "      <td>...</td>\n",
       "      <td>...</td>\n",
       "      <td>...</td>\n",
       "      <td>...</td>\n",
       "    </tr>\n",
       "    <tr>\n",
       "      <th>138066</th>\n",
       "      <td>33645655643</td>\n",
       "      <td>-9223372036854775808</td>\n",
       "      <td>1.135452e+08</td>\n",
       "      <td>922173944.0</td>\n",
       "      <td>892867.0</td>\n",
       "      <td>8922614.0</td>\n",
       "      <td>1565542.0</td>\n",
       "      <td>42219856.0</td>\n",
       "      <td>28354119.0</td>\n",
       "      <td>825524976.0</td>\n",
       "      <td>792559807.0</td>\n",
       "    </tr>\n",
       "    <tr>\n",
       "      <th>138067</th>\n",
       "      <td>33650688697</td>\n",
       "      <td>7277825670196679680</td>\n",
       "      <td>8.123076e+07</td>\n",
       "      <td>631804110.0</td>\n",
       "      <td>3517065.0</td>\n",
       "      <td>12784914.0</td>\n",
       "      <td>690876.0</td>\n",
       "      <td>27955095.0</td>\n",
       "      <td>37561864.0</td>\n",
       "      <td>535806880.0</td>\n",
       "      <td>16751926.0</td>\n",
       "    </tr>\n",
       "    <tr>\n",
       "      <th>138068</th>\n",
       "      <td>33663449963</td>\n",
       "      <td>7349883264234609664</td>\n",
       "      <td>9.797070e+07</td>\n",
       "      <td>705783925.0</td>\n",
       "      <td>2352181.0</td>\n",
       "      <td>4415361.0</td>\n",
       "      <td>2121718.0</td>\n",
       "      <td>22165518.0</td>\n",
       "      <td>40643294.0</td>\n",
       "      <td>631628095.0</td>\n",
       "      <td>714638145.0</td>\n",
       "    </tr>\n",
       "    <tr>\n",
       "      <th>138069</th>\n",
       "      <td>33621890103</td>\n",
       "      <td>-9223372036854775808</td>\n",
       "      <td>9.824953e+07</td>\n",
       "      <td>627698629.0</td>\n",
       "      <td>1260239.0</td>\n",
       "      <td>6585469.0</td>\n",
       "      <td>2058277.0</td>\n",
       "      <td>24516413.0</td>\n",
       "      <td>15029702.0</td>\n",
       "      <td>566933800.0</td>\n",
       "      <td>132415585.0</td>\n",
       "    </tr>\n",
       "    <tr>\n",
       "      <th>138070</th>\n",
       "      <td>33619622058</td>\n",
       "      <td>-9223372036854775808</td>\n",
       "      <td>9.791063e+07</td>\n",
       "      <td>401522016.0</td>\n",
       "      <td>823109.0</td>\n",
       "      <td>7757267.0</td>\n",
       "      <td>2850914.0</td>\n",
       "      <td>17122508.0</td>\n",
       "      <td>16494842.0</td>\n",
       "      <td>355066446.0</td>\n",
       "      <td>816120043.0</td>\n",
       "    </tr>\n",
       "  </tbody>\n",
       "</table>\n",
       "<p>138071 rows × 11 columns</p>\n",
       "</div>"
      ],
      "text/plain": [
       "        MSISDN/Number            Bearer Id      Dur (ms)  \\\n",
       "0         33664962239 -9223372036854775808  1.823653e+09   \n",
       "1         33681854413 -9223372036854775808  1.365104e+09   \n",
       "2         33760627129 -9223372036854775808  1.361763e+09   \n",
       "3         33699795932 -9223372036854775808  1.089009e+09   \n",
       "4         33665368271 -9223372036854775808  1.035262e+09   \n",
       "...               ...                  ...           ...   \n",
       "138066    33645655643 -9223372036854775808  1.135452e+08   \n",
       "138067    33650688697  7277825670196679680  8.123076e+07   \n",
       "138068    33663449963  7349883264234609664  9.797070e+07   \n",
       "138069    33621890103 -9223372036854775808  9.824953e+07   \n",
       "138070    33619622058 -9223372036854775808  9.791063e+07   \n",
       "\n",
       "        Total Data Volume (Bytes)  Social Media Data Volume (Bytes)  \\\n",
       "0                     345629377.0                         1570185.0   \n",
       "1                     707185356.0                         1933278.0   \n",
       "2                     307690973.0                         1726277.0   \n",
       "3                     607681403.0                          912788.0   \n",
       "4                     118487293.0                         1624991.0   \n",
       "...                           ...                               ...   \n",
       "138066                922173944.0                          892867.0   \n",
       "138067                631804110.0                         3517065.0   \n",
       "138068                705783925.0                         2352181.0   \n",
       "138069                627698629.0                         1260239.0   \n",
       "138070                401522016.0                          823109.0   \n",
       "\n",
       "        Google Data Volume (Bytes)  Email Data Volume (Bytes)  \\\n",
       "0                        2905912.0                  3701304.0   \n",
       "1                        4414096.0                   937385.0   \n",
       "2                       10229119.0                  3363124.0   \n",
       "3                        7748843.0                  2110349.0   \n",
       "4                        4906872.0                  2090979.0   \n",
       "...                            ...                        ...   \n",
       "138066                   8922614.0                  1565542.0   \n",
       "138067                  12784914.0                   690876.0   \n",
       "138068                   4415361.0                  2121718.0   \n",
       "138069                   6585469.0                  2058277.0   \n",
       "138070                   7757267.0                  2850914.0   \n",
       "\n",
       "        Youtube Data Volume (Bytes)  Netflix Data Volume (Bytes)  \\\n",
       "0                        18355943.0                   17855187.0   \n",
       "1                        39359124.0                   35565545.0   \n",
       "2                        34425237.0                   23751202.0   \n",
       "3                        34222253.0                   17539799.0   \n",
       "4                         9120760.0                   31212766.0   \n",
       "...                             ...                          ...   \n",
       "138066                   42219856.0                   28354119.0   \n",
       "138067                   27955095.0                   37561864.0   \n",
       "138068                   22165518.0                   40643294.0   \n",
       "138069                   24516413.0                   15029702.0   \n",
       "138070                   17122508.0                   16494842.0   \n",
       "\n",
       "        Gaming Data Volume (Bytes)  Other Data Volume (Bytes)  \n",
       "0                      292426453.0                180558843.0  \n",
       "1                      609920783.0                541959383.0  \n",
       "2                      229980251.0                414908351.0  \n",
       "3                      531237049.0                564619822.0  \n",
       "4                       58881157.0                814303325.0  \n",
       "...                            ...                        ...  \n",
       "138066                 825524976.0                792559807.0  \n",
       "138067                 535806880.0                 16751926.0  \n",
       "138068                 631628095.0                714638145.0  \n",
       "138069                 566933800.0                132415585.0  \n",
       "138070                 355066446.0                816120043.0  \n",
       "\n",
       "[138071 rows x 11 columns]"
      ]
     },
     "execution_count": 9,
     "metadata": {},
     "output_type": "execute_result"
    }
   ],
   "source": [
    "#select relevant columns to analyze user engagment\n",
    "telecom_engagement_df = telecom_cleaned_df[['MSISDN/Number','Bearer Id', 'Dur (ms)', 'Total Data Volume (Bytes)' ,'Social Media Data Volume (Bytes)', 'Google Data Volume (Bytes)',\n",
    "    'Email Data Volume (Bytes)', 'Youtube Data Volume (Bytes)', 'Netflix Data Volume (Bytes)',\n",
    "    'Gaming Data Volume (Bytes)', 'Other Data Volume (Bytes)']]\n",
    "telecom_engagement_df"
   ]
  },
  {
   "cell_type": "code",
   "execution_count": 10,
   "metadata": {},
   "outputs": [
    {
     "data": {
      "text/html": [
       "<div>\n",
       "<style scoped>\n",
       "    .dataframe tbody tr th:only-of-type {\n",
       "        vertical-align: middle;\n",
       "    }\n",
       "\n",
       "    .dataframe tbody tr th {\n",
       "        vertical-align: top;\n",
       "    }\n",
       "\n",
       "    .dataframe thead th {\n",
       "        text-align: right;\n",
       "    }\n",
       "</style>\n",
       "<table border=\"1\" class=\"dataframe\">\n",
       "  <thead>\n",
       "    <tr style=\"text-align: right;\">\n",
       "      <th></th>\n",
       "      <th>number of xDR Sessions</th>\n",
       "      <th>Dur (ms)</th>\n",
       "      <th>Total Data Volume (Bytes)</th>\n",
       "    </tr>\n",
       "    <tr>\n",
       "      <th>MSISDN/Number</th>\n",
       "      <th></th>\n",
       "      <th></th>\n",
       "      <th></th>\n",
       "    </tr>\n",
       "  </thead>\n",
       "  <tbody>\n",
       "    <tr>\n",
       "      <th>33601001722</th>\n",
       "      <td>1</td>\n",
       "      <td>116720140.0</td>\n",
       "      <td>8.786906e+08</td>\n",
       "    </tr>\n",
       "    <tr>\n",
       "      <th>33601001754</th>\n",
       "      <td>1</td>\n",
       "      <td>181230963.0</td>\n",
       "      <td>1.568596e+08</td>\n",
       "    </tr>\n",
       "    <tr>\n",
       "      <th>33601007832</th>\n",
       "      <td>1</td>\n",
       "      <td>49878024.0</td>\n",
       "      <td>4.223207e+08</td>\n",
       "    </tr>\n",
       "    <tr>\n",
       "      <th>33601008617</th>\n",
       "      <td>2</td>\n",
       "      <td>37104453.0</td>\n",
       "      <td>1.457411e+09</td>\n",
       "    </tr>\n",
       "    <tr>\n",
       "      <th>33601010682</th>\n",
       "      <td>2</td>\n",
       "      <td>253983077.0</td>\n",
       "      <td>6.152172e+08</td>\n",
       "    </tr>\n",
       "    <tr>\n",
       "      <th>...</th>\n",
       "      <td>...</td>\n",
       "      <td>...</td>\n",
       "      <td>...</td>\n",
       "    </tr>\n",
       "    <tr>\n",
       "      <th>33789960306</th>\n",
       "      <td>1</td>\n",
       "      <td>157069852.0</td>\n",
       "      <td>7.102876e+08</td>\n",
       "    </tr>\n",
       "    <tr>\n",
       "      <th>33789967113</th>\n",
       "      <td>1</td>\n",
       "      <td>160461578.0</td>\n",
       "      <td>2.081231e+08</td>\n",
       "    </tr>\n",
       "    <tr>\n",
       "      <th>33789996170</th>\n",
       "      <td>1</td>\n",
       "      <td>8810688.0</td>\n",
       "      <td>7.146416e+08</td>\n",
       "    </tr>\n",
       "    <tr>\n",
       "      <th>33789997247</th>\n",
       "      <td>1</td>\n",
       "      <td>140988659.0</td>\n",
       "      <td>4.803073e+08</td>\n",
       "    </tr>\n",
       "    <tr>\n",
       "      <th>337000037000919</th>\n",
       "      <td>1</td>\n",
       "      <td>253030201.0</td>\n",
       "      <td>5.962878e+08</td>\n",
       "    </tr>\n",
       "  </tbody>\n",
       "</table>\n",
       "<p>99115 rows × 3 columns</p>\n",
       "</div>"
      ],
      "text/plain": [
       "                 number of xDR Sessions     Dur (ms)  \\\n",
       "MSISDN/Number                                          \n",
       "33601001722                           1  116720140.0   \n",
       "33601001754                           1  181230963.0   \n",
       "33601007832                           1   49878024.0   \n",
       "33601008617                           2   37104453.0   \n",
       "33601010682                           2  253983077.0   \n",
       "...                                 ...          ...   \n",
       "33789960306                           1  157069852.0   \n",
       "33789967113                           1  160461578.0   \n",
       "33789996170                           1    8810688.0   \n",
       "33789997247                           1  140988659.0   \n",
       "337000037000919                       1  253030201.0   \n",
       "\n",
       "                 Total Data Volume (Bytes)  \n",
       "MSISDN/Number                               \n",
       "33601001722                   8.786906e+08  \n",
       "33601001754                   1.568596e+08  \n",
       "33601007832                   4.223207e+08  \n",
       "33601008617                   1.457411e+09  \n",
       "33601010682                   6.152172e+08  \n",
       "...                                    ...  \n",
       "33789960306                   7.102876e+08  \n",
       "33789967113                   2.081231e+08  \n",
       "33789996170                   7.146416e+08  \n",
       "33789997247                   4.803073e+08  \n",
       "337000037000919               5.962878e+08  \n",
       "\n",
       "[99115 rows x 3 columns]"
      ]
     },
     "execution_count": 10,
     "metadata": {},
     "output_type": "execute_result"
    }
   ],
   "source": [
    "# Group the dataframe with Number(User)\n",
    "telecom_engagement_df = telecom_engagement_df.groupby(\n",
    "    'MSISDN/Number').agg({'Bearer Id': 'count', 'Dur (ms)': 'sum', 'Total Data Volume (Bytes)': 'sum'})\n",
    "telecom_engagement_df = telecom_engagement_df.rename(\n",
    "    columns={'Bearer Id': 'number of xDR Sessions'})\n",
    "telecom_engagement_df"
   ]
  },
  {
   "cell_type": "markdown",
   "metadata": {},
   "source": [
    "# Top 10 Numbers with highest number of xDR Sessions"
   ]
  },
  {
   "cell_type": "code",
   "execution_count": 11,
   "metadata": {},
   "outputs": [
    {
     "data": {
      "text/html": [
       "<div>\n",
       "<style scoped>\n",
       "    .dataframe tbody tr th:only-of-type {\n",
       "        vertical-align: middle;\n",
       "    }\n",
       "\n",
       "    .dataframe tbody tr th {\n",
       "        vertical-align: top;\n",
       "    }\n",
       "\n",
       "    .dataframe thead th {\n",
       "        text-align: right;\n",
       "    }\n",
       "</style>\n",
       "<table border=\"1\" class=\"dataframe\">\n",
       "  <thead>\n",
       "    <tr style=\"text-align: right;\">\n",
       "      <th></th>\n",
       "      <th>number of xDR Sessions</th>\n",
       "      <th>Dur (ms)</th>\n",
       "      <th>Total Data Volume (Bytes)</th>\n",
       "    </tr>\n",
       "    <tr>\n",
       "      <th>MSISDN/Number</th>\n",
       "      <th></th>\n",
       "      <th></th>\n",
       "      <th></th>\n",
       "    </tr>\n",
       "  </thead>\n",
       "  <tbody>\n",
       "    <tr>\n",
       "      <th>33626320676</th>\n",
       "      <td>18</td>\n",
       "      <td>8.791937e+09</td>\n",
       "      <td>7.971167e+09</td>\n",
       "    </tr>\n",
       "    <tr>\n",
       "      <th>33625779332</th>\n",
       "      <td>17</td>\n",
       "      <td>1.855376e+10</td>\n",
       "      <td>8.499621e+09</td>\n",
       "    </tr>\n",
       "    <tr>\n",
       "      <th>33614892860</th>\n",
       "      <td>17</td>\n",
       "      <td>9.966906e+09</td>\n",
       "      <td>8.846226e+09</td>\n",
       "    </tr>\n",
       "    <tr>\n",
       "      <th>33659725664</th>\n",
       "      <td>16</td>\n",
       "      <td>4.035436e+09</td>\n",
       "      <td>7.705863e+09</td>\n",
       "    </tr>\n",
       "    <tr>\n",
       "      <th>33675877202</th>\n",
       "      <td>15</td>\n",
       "      <td>4.865954e+09</td>\n",
       "      <td>7.891111e+09</td>\n",
       "    </tr>\n",
       "    <tr>\n",
       "      <th>33760536639</th>\n",
       "      <td>15</td>\n",
       "      <td>9.279442e+09</td>\n",
       "      <td>8.514774e+09</td>\n",
       "    </tr>\n",
       "    <tr>\n",
       "      <th>33667163239</th>\n",
       "      <td>13</td>\n",
       "      <td>8.744922e+09</td>\n",
       "      <td>5.618394e+09</td>\n",
       "    </tr>\n",
       "    <tr>\n",
       "      <th>33604515716</th>\n",
       "      <td>12</td>\n",
       "      <td>5.207995e+09</td>\n",
       "      <td>5.487855e+09</td>\n",
       "    </tr>\n",
       "    <tr>\n",
       "      <th>33603127838</th>\n",
       "      <td>12</td>\n",
       "      <td>6.287767e+09</td>\n",
       "      <td>4.976195e+09</td>\n",
       "    </tr>\n",
       "    <tr>\n",
       "      <th>33627080969</th>\n",
       "      <td>12</td>\n",
       "      <td>4.703519e+09</td>\n",
       "      <td>5.754731e+09</td>\n",
       "    </tr>\n",
       "  </tbody>\n",
       "</table>\n",
       "</div>"
      ],
      "text/plain": [
       "               number of xDR Sessions      Dur (ms)  Total Data Volume (Bytes)\n",
       "MSISDN/Number                                                                 \n",
       "33626320676                        18  8.791937e+09               7.971167e+09\n",
       "33625779332                        17  1.855376e+10               8.499621e+09\n",
       "33614892860                        17  9.966906e+09               8.846226e+09\n",
       "33659725664                        16  4.035436e+09               7.705863e+09\n",
       "33675877202                        15  4.865954e+09               7.891111e+09\n",
       "33760536639                        15  9.279442e+09               8.514774e+09\n",
       "33667163239                        13  8.744922e+09               5.618394e+09\n",
       "33604515716                        12  5.207995e+09               5.487855e+09\n",
       "33603127838                        12  6.287767e+09               4.976195e+09\n",
       "33627080969                        12  4.703519e+09               5.754731e+09"
      ]
     },
     "execution_count": 11,
     "metadata": {},
     "output_type": "execute_result"
    }
   ],
   "source": [
    "telecom_engagement_df.sort_values('number of xDR Sessions',ascending=False).head(10)\n"
   ]
  },
  {
   "cell_type": "markdown",
   "metadata": {},
   "source": [
    "# Top 10 Numbers with highest number of Duration\n"
   ]
  },
  {
   "cell_type": "code",
   "execution_count": 12,
   "metadata": {},
   "outputs": [
    {
     "data": {
      "text/html": [
       "<div>\n",
       "<style scoped>\n",
       "    .dataframe tbody tr th:only-of-type {\n",
       "        vertical-align: middle;\n",
       "    }\n",
       "\n",
       "    .dataframe tbody tr th {\n",
       "        vertical-align: top;\n",
       "    }\n",
       "\n",
       "    .dataframe thead th {\n",
       "        text-align: right;\n",
       "    }\n",
       "</style>\n",
       "<table border=\"1\" class=\"dataframe\">\n",
       "  <thead>\n",
       "    <tr style=\"text-align: right;\">\n",
       "      <th></th>\n",
       "      <th>number of xDR Sessions</th>\n",
       "      <th>Dur (ms)</th>\n",
       "      <th>Total Data Volume (Bytes)</th>\n",
       "    </tr>\n",
       "    <tr>\n",
       "      <th>MSISDN/Number</th>\n",
       "      <th></th>\n",
       "      <th></th>\n",
       "      <th></th>\n",
       "    </tr>\n",
       "  </thead>\n",
       "  <tbody>\n",
       "    <tr>\n",
       "      <th>33625779332</th>\n",
       "      <td>17</td>\n",
       "      <td>1.855376e+10</td>\n",
       "      <td>8.499621e+09</td>\n",
       "    </tr>\n",
       "    <tr>\n",
       "      <th>33614892860</th>\n",
       "      <td>17</td>\n",
       "      <td>9.966906e+09</td>\n",
       "      <td>8.846226e+09</td>\n",
       "    </tr>\n",
       "    <tr>\n",
       "      <th>33760536639</th>\n",
       "      <td>15</td>\n",
       "      <td>9.279442e+09</td>\n",
       "      <td>8.514774e+09</td>\n",
       "    </tr>\n",
       "    <tr>\n",
       "      <th>33626320676</th>\n",
       "      <td>18</td>\n",
       "      <td>8.791937e+09</td>\n",
       "      <td>7.971167e+09</td>\n",
       "    </tr>\n",
       "    <tr>\n",
       "      <th>33667163239</th>\n",
       "      <td>13</td>\n",
       "      <td>8.744922e+09</td>\n",
       "      <td>5.618394e+09</td>\n",
       "    </tr>\n",
       "    <tr>\n",
       "      <th>33603127838</th>\n",
       "      <td>12</td>\n",
       "      <td>6.287767e+09</td>\n",
       "      <td>4.976195e+09</td>\n",
       "    </tr>\n",
       "    <tr>\n",
       "      <th>33667456716</th>\n",
       "      <td>6</td>\n",
       "      <td>5.649885e+09</td>\n",
       "      <td>2.600522e+09</td>\n",
       "    </tr>\n",
       "    <tr>\n",
       "      <th>33604515716</th>\n",
       "      <td>12</td>\n",
       "      <td>5.207995e+09</td>\n",
       "      <td>5.487855e+09</td>\n",
       "    </tr>\n",
       "    <tr>\n",
       "      <th>33698792269</th>\n",
       "      <td>11</td>\n",
       "      <td>5.169134e+09</td>\n",
       "      <td>6.540899e+09</td>\n",
       "    </tr>\n",
       "    <tr>\n",
       "      <th>33659822913</th>\n",
       "      <td>10</td>\n",
       "      <td>4.889931e+09</td>\n",
       "      <td>3.299376e+09</td>\n",
       "    </tr>\n",
       "  </tbody>\n",
       "</table>\n",
       "</div>"
      ],
      "text/plain": [
       "               number of xDR Sessions      Dur (ms)  Total Data Volume (Bytes)\n",
       "MSISDN/Number                                                                 \n",
       "33625779332                        17  1.855376e+10               8.499621e+09\n",
       "33614892860                        17  9.966906e+09               8.846226e+09\n",
       "33760536639                        15  9.279442e+09               8.514774e+09\n",
       "33626320676                        18  8.791937e+09               7.971167e+09\n",
       "33667163239                        13  8.744922e+09               5.618394e+09\n",
       "33603127838                        12  6.287767e+09               4.976195e+09\n",
       "33667456716                         6  5.649885e+09               2.600522e+09\n",
       "33604515716                        12  5.207995e+09               5.487855e+09\n",
       "33698792269                        11  5.169134e+09               6.540899e+09\n",
       "33659822913                        10  4.889931e+09               3.299376e+09"
      ]
     },
     "execution_count": 12,
     "metadata": {},
     "output_type": "execute_result"
    }
   ],
   "source": [
    "telecom_engagement_df.sort_values('Dur (ms)',ascending=False).head(10)\n"
   ]
  },
  {
   "cell_type": "markdown",
   "metadata": {},
   "source": [
    "# Top 10 Numbers with highest number of total Data Volume\n"
   ]
  },
  {
   "cell_type": "code",
   "execution_count": 13,
   "metadata": {},
   "outputs": [
    {
     "data": {
      "text/html": [
       "<div>\n",
       "<style scoped>\n",
       "    .dataframe tbody tr th:only-of-type {\n",
       "        vertical-align: middle;\n",
       "    }\n",
       "\n",
       "    .dataframe tbody tr th {\n",
       "        vertical-align: top;\n",
       "    }\n",
       "\n",
       "    .dataframe thead th {\n",
       "        text-align: right;\n",
       "    }\n",
       "</style>\n",
       "<table border=\"1\" class=\"dataframe\">\n",
       "  <thead>\n",
       "    <tr style=\"text-align: right;\">\n",
       "      <th></th>\n",
       "      <th>number of xDR Sessions</th>\n",
       "      <th>Dur (ms)</th>\n",
       "      <th>Total Data Volume (Bytes)</th>\n",
       "    </tr>\n",
       "    <tr>\n",
       "      <th>MSISDN/Number</th>\n",
       "      <th></th>\n",
       "      <th></th>\n",
       "      <th></th>\n",
       "    </tr>\n",
       "  </thead>\n",
       "  <tbody>\n",
       "    <tr>\n",
       "      <th>33614892860</th>\n",
       "      <td>17</td>\n",
       "      <td>9.966906e+09</td>\n",
       "      <td>8.846226e+09</td>\n",
       "    </tr>\n",
       "    <tr>\n",
       "      <th>33760536639</th>\n",
       "      <td>15</td>\n",
       "      <td>9.279442e+09</td>\n",
       "      <td>8.514774e+09</td>\n",
       "    </tr>\n",
       "    <tr>\n",
       "      <th>33625779332</th>\n",
       "      <td>17</td>\n",
       "      <td>1.855376e+10</td>\n",
       "      <td>8.499621e+09</td>\n",
       "    </tr>\n",
       "    <tr>\n",
       "      <th>33626320676</th>\n",
       "      <td>18</td>\n",
       "      <td>8.791937e+09</td>\n",
       "      <td>7.971167e+09</td>\n",
       "    </tr>\n",
       "    <tr>\n",
       "      <th>33675877202</th>\n",
       "      <td>15</td>\n",
       "      <td>4.865954e+09</td>\n",
       "      <td>7.891111e+09</td>\n",
       "    </tr>\n",
       "    <tr>\n",
       "      <th>33659725664</th>\n",
       "      <td>16</td>\n",
       "      <td>4.035436e+09</td>\n",
       "      <td>7.705863e+09</td>\n",
       "    </tr>\n",
       "    <tr>\n",
       "      <th>33666464084</th>\n",
       "      <td>11</td>\n",
       "      <td>4.536764e+09</td>\n",
       "      <td>7.308501e+09</td>\n",
       "    </tr>\n",
       "    <tr>\n",
       "      <th>33664712899</th>\n",
       "      <td>11</td>\n",
       "      <td>2.927790e+09</td>\n",
       "      <td>6.872018e+09</td>\n",
       "    </tr>\n",
       "    <tr>\n",
       "      <th>33698792269</th>\n",
       "      <td>11</td>\n",
       "      <td>5.169134e+09</td>\n",
       "      <td>6.540899e+09</td>\n",
       "    </tr>\n",
       "    <tr>\n",
       "      <th>33658361927</th>\n",
       "      <td>10</td>\n",
       "      <td>2.131716e+09</td>\n",
       "      <td>6.452398e+09</td>\n",
       "    </tr>\n",
       "  </tbody>\n",
       "</table>\n",
       "</div>"
      ],
      "text/plain": [
       "               number of xDR Sessions      Dur (ms)  Total Data Volume (Bytes)\n",
       "MSISDN/Number                                                                 \n",
       "33614892860                        17  9.966906e+09               8.846226e+09\n",
       "33760536639                        15  9.279442e+09               8.514774e+09\n",
       "33625779332                        17  1.855376e+10               8.499621e+09\n",
       "33626320676                        18  8.791937e+09               7.971167e+09\n",
       "33675877202                        15  4.865954e+09               7.891111e+09\n",
       "33659725664                        16  4.035436e+09               7.705863e+09\n",
       "33666464084                        11  4.536764e+09               7.308501e+09\n",
       "33664712899                        11  2.927790e+09               6.872018e+09\n",
       "33698792269                        11  5.169134e+09               6.540899e+09\n",
       "33658361927                        10  2.131716e+09               6.452398e+09"
      ]
     },
     "execution_count": 13,
     "metadata": {},
     "output_type": "execute_result"
    }
   ],
   "source": [
    "telecom_engagement_df.sort_values('Total Data Volume (Bytes)',ascending=False).head(10)\n"
   ]
  },
  {
   "cell_type": "markdown",
   "metadata": {},
   "source": [
    "# Dataframe Normalzation"
   ]
  },
  {
   "cell_type": "code",
   "execution_count": 14,
   "metadata": {},
   "outputs": [
    {
     "data": {
      "text/plain": [
       "array([[-0.49203077, -0.15370369,  0.3859319 ],\n",
       "       [-0.49203077,  0.20223377, -1.09205693],\n",
       "       [-0.49203077, -0.52250403, -0.54851071],\n",
       "       ...,\n",
       "       [-0.49203077, -0.74909242,  0.05003262],\n",
       "       [-0.49203077, -0.01980251, -0.42977986],\n",
       "       [-0.49203077,  0.59838496, -0.19230338]])"
      ]
     },
     "execution_count": 14,
     "metadata": {},
     "output_type": "execute_result"
    }
   ],
   "source": [
    "selected_metrics = telecom_engagement_df\n",
    "scale_data = StandardScaler().fit_transform(selected_metrics)\n",
    "scale_data"
   ]
  },
  {
   "cell_type": "code",
   "execution_count": 15,
   "metadata": {},
   "outputs": [
    {
     "data": {
      "text/plain": [
       "array([[-0.76409062, -0.23869147,  0.59932622],\n",
       "       [-0.40505194,  0.16648386, -0.89900837],\n",
       "       [-0.54469765, -0.57843276, -0.60722319],\n",
       "       ...,\n",
       "       [-0.5481452 , -0.83452384,  0.05573866],\n",
       "       [-0.75279737, -0.03029746, -0.6575547 ],\n",
       "       [-0.61641759,  0.74965842, -0.24091824]])"
      ]
     },
     "execution_count": 15,
     "metadata": {},
     "output_type": "execute_result"
    }
   ],
   "source": [
    "normalized_data = normalize(scale_data)\n",
    "normalized_data"
   ]
  },
  {
   "cell_type": "code",
   "execution_count": 16,
   "metadata": {},
   "outputs": [
    {
     "data": {
      "text/plain": [
       "Text(0.5, 1.0, 'Normalized data')"
      ]
     },
     "execution_count": 16,
     "metadata": {},
     "output_type": "execute_result"
    },
    {
     "data": {
      "image/png": "[encoded data removed]",
      "text/plain": [
       "<Figure size 720x432 with 2 Axes>"
      ]
     },
     "metadata": {
      "needs_background": "light"
     },
     "output_type": "display_data"
    }
   ],
   "source": [
    "fig, ax=plt.subplots(1,2, figsize=(10, 6))\n",
    "sns.histplot(selected_metrics, ax=ax[0])\n",
    "ax[0].set_title(\"Original Data\")\n",
    "sns.histplot(normalized_data, ax=ax[1])\n",
    "ax[1].set_title(\"Normalized data\")"
   ]
  },
  {
   "cell_type": "markdown",
   "metadata": {},
   "source": [
    "# K-Means Clustering "
   ]
  },
  {
   "cell_type": "code",
   "execution_count": 17,
   "metadata": {},
   "outputs": [
    {
     "data": {
      "text/plain": [
       "array([2, 0, 0, ..., 2, 0, 0], dtype=int32)"
      ]
     },
     "execution_count": 17,
     "metadata": {},
     "output_type": "execute_result"
    }
   ],
   "source": [
    "#We choose 3 as the number of clusters needed \n",
    "kmeans = KMeans(n_clusters = 3, random_state = 42)\n",
    "y_kmeans = kmeans.fit_predict(normalized_data)\n",
    "X = np.array(normalized_data)\n",
    "y_kmeans"
   ]
  },
  {
   "cell_type": "code",
   "execution_count": 18,
   "metadata": {},
   "outputs": [
    {
     "data": {
      "text/html": [
       "<div>\n",
       "<style scoped>\n",
       "    .dataframe tbody tr th:only-of-type {\n",
       "        vertical-align: middle;\n",
       "    }\n",
       "\n",
       "    .dataframe tbody tr th {\n",
       "        vertical-align: top;\n",
       "    }\n",
       "\n",
       "    .dataframe thead th {\n",
       "        text-align: right;\n",
       "    }\n",
       "</style>\n",
       "<table border=\"1\" class=\"dataframe\">\n",
       "  <thead>\n",
       "    <tr style=\"text-align: right;\">\n",
       "      <th></th>\n",
       "      <th>Cluster</th>\n",
       "      <th>number of xDR Sessions</th>\n",
       "      <th>Dur (ms)</th>\n",
       "      <th>Total Data Volume (Bytes)</th>\n",
       "    </tr>\n",
       "    <tr>\n",
       "      <th>MSISDN/Number</th>\n",
       "      <th></th>\n",
       "      <th></th>\n",
       "      <th></th>\n",
       "      <th></th>\n",
       "    </tr>\n",
       "  </thead>\n",
       "  <tbody>\n",
       "    <tr>\n",
       "      <th>33601001722</th>\n",
       "      <td>2</td>\n",
       "      <td>1</td>\n",
       "      <td>116720140.0</td>\n",
       "      <td>8.786906e+08</td>\n",
       "    </tr>\n",
       "    <tr>\n",
       "      <th>33601001754</th>\n",
       "      <td>0</td>\n",
       "      <td>1</td>\n",
       "      <td>181230963.0</td>\n",
       "      <td>1.568596e+08</td>\n",
       "    </tr>\n",
       "    <tr>\n",
       "      <th>33601007832</th>\n",
       "      <td>0</td>\n",
       "      <td>1</td>\n",
       "      <td>49878024.0</td>\n",
       "      <td>4.223207e+08</td>\n",
       "    </tr>\n",
       "    <tr>\n",
       "      <th>33601008617</th>\n",
       "      <td>1</td>\n",
       "      <td>2</td>\n",
       "      <td>37104453.0</td>\n",
       "      <td>1.457411e+09</td>\n",
       "    </tr>\n",
       "    <tr>\n",
       "      <th>33601010682</th>\n",
       "      <td>1</td>\n",
       "      <td>2</td>\n",
       "      <td>253983077.0</td>\n",
       "      <td>6.152172e+08</td>\n",
       "    </tr>\n",
       "    <tr>\n",
       "      <th>...</th>\n",
       "      <td>...</td>\n",
       "      <td>...</td>\n",
       "      <td>...</td>\n",
       "      <td>...</td>\n",
       "    </tr>\n",
       "    <tr>\n",
       "      <th>33789960306</th>\n",
       "      <td>2</td>\n",
       "      <td>1</td>\n",
       "      <td>157069852.0</td>\n",
       "      <td>7.102876e+08</td>\n",
       "    </tr>\n",
       "    <tr>\n",
       "      <th>33789967113</th>\n",
       "      <td>0</td>\n",
       "      <td>1</td>\n",
       "      <td>160461578.0</td>\n",
       "      <td>2.081231e+08</td>\n",
       "    </tr>\n",
       "    <tr>\n",
       "      <th>33789996170</th>\n",
       "      <td>2</td>\n",
       "      <td>1</td>\n",
       "      <td>8810688.0</td>\n",
       "      <td>7.146416e+08</td>\n",
       "    </tr>\n",
       "    <tr>\n",
       "      <th>33789997247</th>\n",
       "      <td>0</td>\n",
       "      <td>1</td>\n",
       "      <td>140988659.0</td>\n",
       "      <td>4.803073e+08</td>\n",
       "    </tr>\n",
       "    <tr>\n",
       "      <th>337000037000919</th>\n",
       "      <td>0</td>\n",
       "      <td>1</td>\n",
       "      <td>253030201.0</td>\n",
       "      <td>5.962878e+08</td>\n",
       "    </tr>\n",
       "  </tbody>\n",
       "</table>\n",
       "<p>99115 rows × 4 columns</p>\n",
       "</div>"
      ],
      "text/plain": [
       "                 Cluster  number of xDR Sessions     Dur (ms)  \\\n",
       "MSISDN/Number                                                   \n",
       "33601001722            2                       1  116720140.0   \n",
       "33601001754            0                       1  181230963.0   \n",
       "33601007832            0                       1   49878024.0   \n",
       "33601008617            1                       2   37104453.0   \n",
       "33601010682            1                       2  253983077.0   \n",
       "...                  ...                     ...          ...   \n",
       "33789960306            2                       1  157069852.0   \n",
       "33789967113            0                       1  160461578.0   \n",
       "33789996170            2                       1    8810688.0   \n",
       "33789997247            0                       1  140988659.0   \n",
       "337000037000919        0                       1  253030201.0   \n",
       "\n",
       "                 Total Data Volume (Bytes)  \n",
       "MSISDN/Number                               \n",
       "33601001722                   8.786906e+08  \n",
       "33601001754                   1.568596e+08  \n",
       "33601007832                   4.223207e+08  \n",
       "33601008617                   1.457411e+09  \n",
       "33601010682                   6.152172e+08  \n",
       "...                                    ...  \n",
       "33789960306                   7.102876e+08  \n",
       "33789967113                   2.081231e+08  \n",
       "33789996170                   7.146416e+08  \n",
       "33789997247                   4.803073e+08  \n",
       "337000037000919               5.962878e+08  \n",
       "\n",
       "[99115 rows x 4 columns]"
      ]
     },
     "execution_count": 18,
     "metadata": {},
     "output_type": "execute_result"
    }
   ],
   "source": [
    "clustered_telecom_engagement_df = telecom_engagement_df.copy()\n",
    "clustered_telecom_engagement_df.insert(0, 'Cluster', y_kmeans)\n",
    "clustered_telecom_engagement_df"
   ]
  },
  {
   "cell_type": "code",
   "execution_count": 19,
   "metadata": {},
   "outputs": [
    {
     "data": {
      "text/plain": [
       "0    44403\n",
       "2    27447\n",
       "1    27265\n",
       "Name: Cluster, dtype: int64"
      ]
     },
     "execution_count": 19,
     "metadata": {},
     "output_type": "execute_result"
    }
   ],
   "source": [
    "clustered_telecom_engagement_df['Cluster'].value_counts()\n"
   ]
  },
  {
   "cell_type": "markdown",
   "metadata": {},
   "source": [
    "# Minimum , Maximum , Average and Total of Clusters"
   ]
  },
  {
   "cell_type": "code",
   "execution_count": 20,
   "metadata": {},
   "outputs": [
    {
     "data": {
      "text/html": [
       "<div>\n",
       "<style scoped>\n",
       "    .dataframe tbody tr th:only-of-type {\n",
       "        vertical-align: middle;\n",
       "    }\n",
       "\n",
       "    .dataframe tbody tr th {\n",
       "        vertical-align: top;\n",
       "    }\n",
       "\n",
       "    .dataframe thead th {\n",
       "        text-align: right;\n",
       "    }\n",
       "</style>\n",
       "<table border=\"1\" class=\"dataframe\">\n",
       "  <thead>\n",
       "    <tr style=\"text-align: right;\">\n",
       "      <th></th>\n",
       "      <th>number of xDR Sessions</th>\n",
       "      <th>Dur (ms)</th>\n",
       "      <th>Total Data Volume (Bytes)</th>\n",
       "    </tr>\n",
       "    <tr>\n",
       "      <th>Cluster</th>\n",
       "      <th></th>\n",
       "      <th></th>\n",
       "      <th></th>\n",
       "    </tr>\n",
       "  </thead>\n",
       "  <tbody>\n",
       "    <tr>\n",
       "      <th>0</th>\n",
       "      <td>1</td>\n",
       "      <td>7189000.0</td>\n",
       "      <td>33249009.0</td>\n",
       "    </tr>\n",
       "    <tr>\n",
       "      <th>1</th>\n",
       "      <td>1</td>\n",
       "      <td>18235797.0</td>\n",
       "      <td>118487293.0</td>\n",
       "    </tr>\n",
       "    <tr>\n",
       "      <th>2</th>\n",
       "      <td>1</td>\n",
       "      <td>7142988.0</td>\n",
       "      <td>545365335.0</td>\n",
       "    </tr>\n",
       "  </tbody>\n",
       "</table>\n",
       "</div>"
      ],
      "text/plain": [
       "         number of xDR Sessions    Dur (ms)  Total Data Volume (Bytes)\n",
       "Cluster                                                               \n",
       "0                             1   7189000.0                 33249009.0\n",
       "1                             1  18235797.0                118487293.0\n",
       "2                             1   7142988.0                545365335.0"
      ]
     },
     "execution_count": 20,
     "metadata": {},
     "output_type": "execute_result"
    }
   ],
   "source": [
    "min_of_clusters = clustered_telecom_engagement_df.groupby('Cluster').agg({'number of xDR Sessions': 'min','Dur (ms)': 'min','Total Data Volume (Bytes)': 'min'})\n",
    "min_of_clusters"
   ]
  },
  {
   "cell_type": "code",
   "execution_count": 21,
   "metadata": {},
   "outputs": [
    {
     "data": {
      "text/plain": [
       "<AxesSubplot:ylabel='number of xDR Sessions'>"
      ]
     },
     "execution_count": 21,
     "metadata": {},
     "output_type": "execute_result"
    },
    {
     "data": {
      "image/png": "[encoded data removed]",
      "text/plain": [
       "<Figure size 432x288 with 1 Axes>"
      ]
     },
     "metadata": {},
     "output_type": "display_data"
    }
   ],
   "source": [
    "min_of_clusters['number of xDR Sessions'].value_counts().plot(kind='pie')"
   ]
  },
  {
   "cell_type": "code",
   "execution_count": 22,
   "metadata": {},
   "outputs": [
    {
     "data": {
      "text/plain": [
       "<AxesSubplot:ylabel='Dur (ms)'>"
      ]
     },
     "execution_count": 22,
     "metadata": {},
     "output_type": "execute_result"
    },
    {
     "data": {
      "image/png": "[encoded data removed]",
      "text/plain": [
       "<Figure size 432x288 with 1 Axes>"
      ]
     },
     "metadata": {},
     "output_type": "display_data"
    }
   ],
   "source": [
    "min_of_clusters['Dur (ms)'].value_counts().plot(kind='pie')\n"
   ]
  },
  {
   "cell_type": "code",
   "execution_count": 24,
   "metadata": {},
   "outputs": [
    {
     "data": {
      "text/plain": [
       "<AxesSubplot:>"
      ]
     },
     "execution_count": 24,
     "metadata": {},
     "output_type": "execute_result"
    },
    {
     "data": {
      "image/png": "[encoded data removed]",
      "text/plain": [
       "<Figure size 432x288 with 1 Axes>"
      ]
     },
     "metadata": {
      "needs_background": "light"
     },
     "output_type": "display_data"
    }
   ],
   "source": [
    "min_of_clusters['Dur (ms)'].value_counts().plot(kind='barh',color='green')\n"
   ]
  },
  {
   "cell_type": "code",
   "execution_count": 25,
   "metadata": {},
   "outputs": [
    {
     "data": {
      "text/plain": [
       "<AxesSubplot:ylabel='Total Data Volume (Bytes)'>"
      ]
     },
     "execution_count": 25,
     "metadata": {},
     "output_type": "execute_result"
    },
    {
     "data": {
      "image/png": "[encoded data removed]",
      "text/plain": [
       "<Figure size 432x288 with 1 Axes>"
      ]
     },
     "metadata": {},
     "output_type": "display_data"
    }
   ],
   "source": [
    "min_of_clusters['Total Data Volume (Bytes)'].value_counts().plot(kind='pie')"
   ]
  },
  {
   "cell_type": "code",
   "execution_count": 26,
   "metadata": {},
   "outputs": [
    {
     "data": {
      "text/plain": [
       "<AxesSubplot:>"
      ]
     },
     "execution_count": 26,
     "metadata": {},
     "output_type": "execute_result"
    },
    {
     "data": {
      "image/png": "[encoded data removed]",
      "text/plain": [
       "<Figure size 432x288 with 1 Axes>"
      ]
     },
     "metadata": {
      "needs_background": "light"
     },
     "output_type": "display_data"
    }
   ],
   "source": [
    "min_of_clusters['Total Data Volume (Bytes)'].value_counts().plot(kind='barh',color='green')"
   ]
  },
  {
   "cell_type": "code",
   "execution_count": 27,
   "metadata": {},
   "outputs": [
    {
     "data": {
      "text/html": [
       "<div>\n",
       "<style scoped>\n",
       "    .dataframe tbody tr th:only-of-type {\n",
       "        vertical-align: middle;\n",
       "    }\n",
       "\n",
       "    .dataframe tbody tr th {\n",
       "        vertical-align: top;\n",
       "    }\n",
       "\n",
       "    .dataframe thead th {\n",
       "        text-align: right;\n",
       "    }\n",
       "</style>\n",
       "<table border=\"1\" class=\"dataframe\">\n",
       "  <thead>\n",
       "    <tr style=\"text-align: right;\">\n",
       "      <th></th>\n",
       "      <th>number of xDR Sessions</th>\n",
       "      <th>Dur (ms)</th>\n",
       "      <th>Total Data Volume (Bytes)</th>\n",
       "    </tr>\n",
       "    <tr>\n",
       "      <th>Cluster</th>\n",
       "      <th></th>\n",
       "      <th></th>\n",
       "      <th></th>\n",
       "    </tr>\n",
       "  </thead>\n",
       "  <tbody>\n",
       "    <tr>\n",
       "      <th>0</th>\n",
       "      <td>2</td>\n",
       "      <td>7.804715e+08</td>\n",
       "      <td>7.031826e+08</td>\n",
       "    </tr>\n",
       "    <tr>\n",
       "      <th>1</th>\n",
       "      <td>18</td>\n",
       "      <td>1.855376e+10</td>\n",
       "      <td>8.846226e+09</td>\n",
       "    </tr>\n",
       "    <tr>\n",
       "      <th>2</th>\n",
       "      <td>1</td>\n",
       "      <td>3.327750e+08</td>\n",
       "      <td>9.507607e+08</td>\n",
       "    </tr>\n",
       "  </tbody>\n",
       "</table>\n",
       "</div>"
      ],
      "text/plain": [
       "         number of xDR Sessions      Dur (ms)  Total Data Volume (Bytes)\n",
       "Cluster                                                                 \n",
       "0                             2  7.804715e+08               7.031826e+08\n",
       "1                            18  1.855376e+10               8.846226e+09\n",
       "2                             1  3.327750e+08               9.507607e+08"
      ]
     },
     "execution_count": 27,
     "metadata": {},
     "output_type": "execute_result"
    }
   ],
   "source": [
    "max_of_clusters = clustered_telecom_engagement_df.groupby('Cluster').agg({'number of xDR Sessions': 'max','Dur (ms)': 'max','Total Data Volume (Bytes)': 'max'})\n",
    "max_of_clusters"
   ]
  },
  {
   "cell_type": "code",
   "execution_count": 28,
   "metadata": {},
   "outputs": [
    {
     "data": {
      "text/plain": [
       "<AxesSubplot:ylabel='number of xDR Sessions'>"
      ]
     },
     "execution_count": 28,
     "metadata": {},
     "output_type": "execute_result"
    },
    {
     "data": {
      "image/png": "[encoded data removed]",
      "text/plain": [
       "<Figure size 432x288 with 1 Axes>"
      ]
     },
     "metadata": {},
     "output_type": "display_data"
    }
   ],
   "source": [
    "max_of_clusters['number of xDR Sessions'].value_counts().plot(kind='pie')\n"
   ]
  },
  {
   "cell_type": "code",
   "execution_count": 29,
   "metadata": {},
   "outputs": [
    {
     "data": {
      "text/plain": [
       "<AxesSubplot:>"
      ]
     },
     "execution_count": 29,
     "metadata": {},
     "output_type": "execute_result"
    },
    {
     "data": {
      "image/png": "[encoded data removed]",
      "text/plain": [
       "<Figure size 432x288 with 1 Axes>"
      ]
     },
     "metadata": {
      "needs_background": "light"
     },
     "output_type": "display_data"
    }
   ],
   "source": [
    "max_of_clusters['number of xDR Sessions'].value_counts().plot(kind='barh',color='green')"
   ]
  },
  {
   "cell_type": "code",
   "execution_count": 30,
   "metadata": {},
   "outputs": [
    {
     "data": {
      "text/plain": [
       "<AxesSubplot:ylabel='Dur (ms)'>"
      ]
     },
     "execution_count": 30,
     "metadata": {},
     "output_type": "execute_result"
    },
    {
     "data": {
      "image/png": "[encoded data removed]",
      "text/plain": [
       "<Figure size 432x288 with 1 Axes>"
      ]
     },
     "metadata": {},
     "output_type": "display_data"
    }
   ],
   "source": [
    "max_of_clusters['Dur (ms)'].value_counts().plot(kind='pie')\n"
   ]
  },
  {
   "cell_type": "code",
   "execution_count": 31,
   "metadata": {},
   "outputs": [
    {
     "data": {
      "text/plain": [
       "<AxesSubplot:>"
      ]
     },
     "execution_count": 31,
     "metadata": {},
     "output_type": "execute_result"
    },
    {
     "data": {
      "image/png": "[encoded data removed]",
      "text/plain": [
       "<Figure size 432x288 with 1 Axes>"
      ]
     },
     "metadata": {
      "needs_background": "light"
     },
     "output_type": "display_data"
    }
   ],
   "source": [
    "max_of_clusters['Dur (ms)'].value_counts().plot(kind='barh',color='green')"
   ]
  },
  {
   "cell_type": "code",
   "execution_count": 32,
   "metadata": {},
   "outputs": [
    {
     "data": {
      "text/plain": [
       "<AxesSubplot:>"
      ]
     },
     "execution_count": 32,
     "metadata": {},
     "output_type": "execute_result"
    },
    {
     "data": {
      "image/png": "[encoded data removed]",
      "text/plain": [
       "<Figure size 432x288 with 1 Axes>"
      ]
     },
     "metadata": {
      "needs_background": "light"
     },
     "output_type": "display_data"
    }
   ],
   "source": [
    "max_of_clusters['Total Data Volume (Bytes)'].value_counts().plot(kind='barh',color='green')"
   ]
  },
  {
   "cell_type": "code",
   "execution_count": 33,
   "metadata": {},
   "outputs": [
    {
     "data": {
      "text/html": [
       "<div>\n",
       "<style scoped>\n",
       "    .dataframe tbody tr th:only-of-type {\n",
       "        vertical-align: middle;\n",
       "    }\n",
       "\n",
       "    .dataframe tbody tr th {\n",
       "        vertical-align: top;\n",
       "    }\n",
       "\n",
       "    .dataframe thead th {\n",
       "        text-align: right;\n",
       "    }\n",
       "</style>\n",
       "<table border=\"1\" class=\"dataframe\">\n",
       "  <thead>\n",
       "    <tr style=\"text-align: right;\">\n",
       "      <th></th>\n",
       "      <th>number of xDR Sessions</th>\n",
       "      <th>Dur (ms)</th>\n",
       "      <th>Total Data Volume (Bytes)</th>\n",
       "    </tr>\n",
       "    <tr>\n",
       "      <th>Cluster</th>\n",
       "      <th></th>\n",
       "      <th></th>\n",
       "      <th></th>\n",
       "    </tr>\n",
       "  </thead>\n",
       "  <tbody>\n",
       "    <tr>\n",
       "      <th>0</th>\n",
       "      <td>1.004865</td>\n",
       "      <td>1.050958e+08</td>\n",
       "      <td>3.342595e+08</td>\n",
       "    </tr>\n",
       "    <tr>\n",
       "      <th>1</th>\n",
       "      <td>2.420869</td>\n",
       "      <td>2.618990e+08</td>\n",
       "      <td>1.205571e+09</td>\n",
       "    </tr>\n",
       "    <tr>\n",
       "      <th>2</th>\n",
       "      <td>1.000000</td>\n",
       "      <td>9.190706e+07</td>\n",
       "      <td>7.540998e+08</td>\n",
       "    </tr>\n",
       "  </tbody>\n",
       "</table>\n",
       "</div>"
      ],
      "text/plain": [
       "         number of xDR Sessions      Dur (ms)  Total Data Volume (Bytes)\n",
       "Cluster                                                                 \n",
       "0                      1.004865  1.050958e+08               3.342595e+08\n",
       "1                      2.420869  2.618990e+08               1.205571e+09\n",
       "2                      1.000000  9.190706e+07               7.540998e+08"
      ]
     },
     "execution_count": 33,
     "metadata": {},
     "output_type": "execute_result"
    }
   ],
   "source": [
    "mean_of_clusters = clustered_telecom_engagement_df.groupby('Cluster').agg({'number of xDR Sessions': 'mean','Dur (ms)': 'mean','Total Data Volume (Bytes)': 'mean'})\n",
    "mean_of_clusters"
   ]
  },
  {
   "cell_type": "code",
   "execution_count": 34,
   "metadata": {},
   "outputs": [
    {
     "data": {
      "text/plain": [
       "<AxesSubplot:ylabel='number of xDR Sessions'>"
      ]
     },
     "execution_count": 34,
     "metadata": {},
     "output_type": "execute_result"
    },
    {
     "data": {
      "image/png": "[encoded data removed]",
      "text/plain": [
       "<Figure size 432x288 with 1 Axes>"
      ]
     },
     "metadata": {},
     "output_type": "display_data"
    }
   ],
   "source": [
    "mean_of_clusters['number of xDR Sessions'].value_counts().plot(kind='pie')\n"
   ]
  },
  {
   "cell_type": "code",
   "execution_count": 35,
   "metadata": {},
   "outputs": [
    {
     "data": {
      "text/plain": [
       "<AxesSubplot:ylabel='Dur (ms)'>"
      ]
     },
     "execution_count": 35,
     "metadata": {},
     "output_type": "execute_result"
    },
    {
     "data": {
      "image/png": "[encoded data removed]",
      "text/plain": [
       "<Figure size 432x288 with 1 Axes>"
      ]
     },
     "metadata": {},
     "output_type": "display_data"
    }
   ],
   "source": [
    "mean_of_clusters['Dur (ms)'].value_counts().plot(kind='pie')\n"
   ]
  },
  {
   "cell_type": "code",
   "execution_count": 36,
   "metadata": {},
   "outputs": [
    {
     "data": {
      "text/plain": [
       "<AxesSubplot:ylabel='Total Data Volume (Bytes)'>"
      ]
     },
     "execution_count": 36,
     "metadata": {},
     "output_type": "execute_result"
    },
    {
     "data": {
      "image/png": "[encoded data removed]",
      "text/plain": [
       "<Figure size 432x288 with 1 Axes>"
      ]
     },
     "metadata": {},
     "output_type": "display_data"
    }
   ],
   "source": [
    "mean_of_clusters['Total Data Volume (Bytes)'].value_counts().plot(kind='pie')\n"
   ]
  },
  {
   "cell_type": "code",
   "execution_count": 37,
   "metadata": {},
   "outputs": [
    {
     "data": {
      "text/html": [
       "<div>\n",
       "<style scoped>\n",
       "    .dataframe tbody tr th:only-of-type {\n",
       "        vertical-align: middle;\n",
       "    }\n",
       "\n",
       "    .dataframe tbody tr th {\n",
       "        vertical-align: top;\n",
       "    }\n",
       "\n",
       "    .dataframe thead th {\n",
       "        text-align: right;\n",
       "    }\n",
       "</style>\n",
       "<table border=\"1\" class=\"dataframe\">\n",
       "  <thead>\n",
       "    <tr style=\"text-align: right;\">\n",
       "      <th></th>\n",
       "      <th>number of xDR Sessions</th>\n",
       "      <th>Dur (ms)</th>\n",
       "      <th>Total Data Volume (Bytes)</th>\n",
       "    </tr>\n",
       "    <tr>\n",
       "      <th>Cluster</th>\n",
       "      <th></th>\n",
       "      <th></th>\n",
       "      <th></th>\n",
       "    </tr>\n",
       "  </thead>\n",
       "  <tbody>\n",
       "    <tr>\n",
       "      <th>0</th>\n",
       "      <td>44619</td>\n",
       "      <td>4.666569e+12</td>\n",
       "      <td>1.484212e+13</td>\n",
       "    </tr>\n",
       "    <tr>\n",
       "      <th>1</th>\n",
       "      <td>66005</td>\n",
       "      <td>7.140677e+12</td>\n",
       "      <td>3.286990e+13</td>\n",
       "    </tr>\n",
       "    <tr>\n",
       "      <th>2</th>\n",
       "      <td>27447</td>\n",
       "      <td>2.522573e+12</td>\n",
       "      <td>2.069778e+13</td>\n",
       "    </tr>\n",
       "  </tbody>\n",
       "</table>\n",
       "</div>"
      ],
      "text/plain": [
       "         number of xDR Sessions      Dur (ms)  Total Data Volume (Bytes)\n",
       "Cluster                                                                 \n",
       "0                         44619  4.666569e+12               1.484212e+13\n",
       "1                         66005  7.140677e+12               3.286990e+13\n",
       "2                         27447  2.522573e+12               2.069778e+13"
      ]
     },
     "execution_count": 37,
     "metadata": {},
     "output_type": "execute_result"
    }
   ],
   "source": [
    "total_of_clusters = clustered_telecom_engagement_df.groupby('Cluster').agg({'number of xDR Sessions': 'sum','Dur (ms)': 'sum','Total Data Volume (Bytes)': 'sum'})\n",
    "total_of_clusters"
   ]
  },
  {
   "cell_type": "code",
   "execution_count": 38,
   "metadata": {},
   "outputs": [
    {
     "data": {
      "text/plain": [
       "<AxesSubplot:ylabel='number of xDR Sessions'>"
      ]
     },
     "execution_count": 38,
     "metadata": {},
     "output_type": "execute_result"
    },
    {
     "data": {
      "image/png": "[encoded data removed]",
      "text/plain": [
       "<Figure size 432x288 with 1 Axes>"
      ]
     },
     "metadata": {},
     "output_type": "display_data"
    }
   ],
   "source": [
    "total_of_clusters['number of xDR Sessions'].value_counts().plot(kind='pie')\n"
   ]
  },
  {
   "cell_type": "code",
   "execution_count": 39,
   "metadata": {},
   "outputs": [
    {
     "data": {
      "text/plain": [
       "<AxesSubplot:>"
      ]
     },
     "execution_count": 39,
     "metadata": {},
     "output_type": "execute_result"
    },
    {
     "data": {
      "image/png": "[encoded data removed]",
      "text/plain": [
       "<Figure size 432x288 with 1 Axes>"
      ]
     },
     "metadata": {
      "needs_background": "light"
     },
     "output_type": "display_data"
    }
   ],
   "source": [
    "from turtle import color\n",
    "\n",
    "\n",
    "total_of_clusters['number of xDR Sessions'].value_counts().plot(kind='barh',color='green')\n"
   ]
  },
  {
   "cell_type": "code",
   "execution_count": 40,
   "metadata": {},
   "outputs": [
    {
     "data": {
      "text/plain": [
       "<AxesSubplot:ylabel='Dur (ms)'>"
      ]
     },
     "execution_count": 40,
     "metadata": {},
     "output_type": "execute_result"
    },
    {
     "data": {
      "image/png": "[encoded data removed]",
      "text/plain": [
       "<Figure size 432x288 with 1 Axes>"
      ]
     },
     "metadata": {},
     "output_type": "display_data"
    }
   ],
   "source": [
    "total_of_clusters['Dur (ms)'].value_counts().plot(kind='pie')"
   ]
  }
 ],
 "metadata": {
  "kernelspec": {
   "display_name": "Python 3.9.5 64-bit",
   "language": "python",
   "name": "python3"
  },
  "language_info": {
   "codemirror_mode": {
    "name": "ipython",
    "version": 3
   },
   "file_extension": ".py",
   "mimetype": "text/x-python",
   "name": "python",
   "nbconvert_exporter": "python",
   "pygments_lexer": "ipython3",
   "version": "3.9.5"
  },
  "orig_nbformat": 4,
  "vscode": {
   "interpreter": {
    "hash": "916dbcbb3f70747c44a77c7bcd40155683ae19c65e1c03b4aa3499c5328201f1"
   }
  }
 },
 "nbformat": 4,
 "nbformat_minor": 2
}
